{
  "nbformat": 4,
  "nbformat_minor": 0,
  "metadata": {
    "colab": {
      "provenance": []
    },
    "kernelspec": {
      "name": "python3",
      "display_name": "Python 3"
    },
    "language_info": {
      "name": "python"
    }
  },
  "cells": [
    {
      "cell_type": "markdown",
      "source": [
        "# ***Restful API & Flask***\n",
        "\n",
        "---\n",
        "\n"
      ],
      "metadata": {
        "id": "MwB_UbuVy4VO"
      }
    },
    {
      "cell_type": "markdown",
      "source": [
        "1. What is a RESTful API ?\n",
        "     \n",
        "     ans = A RESTful API (Representational State Transfer Application Programming Interface) is an architectural style for designing networked applications. It defines a set of constraints for how data should be structured and transferred, emphasizing statelessness, client-server separation, cacheability, and a uniform interface. Resources are identified by URIs, and operations are performed using standard HTTP methods (GET, POST, PUT, DELETE)."
      ],
      "metadata": {
        "id": "N53uFwIDzCHh"
      }
    },
    {
      "cell_type": "markdown",
      "source": [
        "2. Explain the concept of API specification\n",
        "\n",
        "    ans = An API specification is a blueprint or contract that describes how an API works and how developers can interact with it. It defines the available endpoints, the HTTP methods supported for each endpoint, the request and response formats (e.g., JSON, XML), authentication mechanisms, error codes, and data types. Common API specifications include OpenAPI (formerly Swagger) and RAML. Its purpose is to ensure consistency, facilitate communication between front-end and back-end teams"
      ],
      "metadata": {
        "id": "pD0q3dFw0RKI"
      }
    },
    {
      "cell_type": "markdown",
      "source": [
        "3. What is Flask, and why is it popular for building APIs ?\n",
        "\n",
        "    ans = Flask is a lightweight Python web framework. It's popular for building APIs\n",
        "\n",
        " 1) Minimalism: It doesn't impose many dependencies or enforce a particular structure, giving developers flexibility.\n",
        "\n",
        " 2)Simplicity: It has a small core and is easy to learn and use, making rapid development possible.\n",
        "\n",
        " 3)Flexibility: It's unopinionated, allowing developers to choose their preferred tools and libraries for various tasks like ORMs."
      ],
      "metadata": {
        "id": "SCr61e3p0-ks"
      }
    },
    {
      "cell_type": "markdown",
      "source": [
        "4. What is routing in Flask ?\n",
        "\n",
        "    ans = Routing in Flask is the process of mapping URLs (Uniform Resource Locators) to specific Python functions within your application. When a client makes a request to a particular URL, Flask's router determines which function should handle that request. This is typically done using the @app.route() decorator, which associates a URL path with a view function."
      ],
      "metadata": {
        "id": "3VEixKSd1dXl"
      }
    },
    {
      "cell_type": "markdown",
      "source": [
        "5. How do you create a simple Flask application ?\n",
        "\n",
        "    ans = A simple Flask application can be created by:\n",
        " 1) Importing the Flask class.\n",
        "\n",
        " 2)Creating an instance of the Flask class.\n",
        " 3)Using the @app.route() decorator to define a route for a URL.\n",
        "\n",
        " 3)Defining a function to handle requests to that route, which returns the response.\n",
        "\n",
        " 4)Running the application using app.run().\n",
        "from flask import Flask\n"
      ],
      "metadata": {
        "id": "qea-t43l1tpj"
      }
    },
    {
      "cell_type": "markdown",
      "source": [
        "6. What are HTTP methods used in RESTful APIs ?\n",
        "\n",
        "    ans = HTTP methods (also known as HTTP verbs) indicate the desired action to be performed on a resource. The most common ones in RESTful APIs are:\n",
        "\n",
        " 1)GET: Retrieves a representation of the specified resource. (Read)\n",
        "\n",
        " 2)POST: Submits data to the specified resource, often causing a change in state or creation of a new resource. (Create)\n",
        "\n",
        " 3)PUT: Updates an existing resource or creates a new one if it doesn't exist, by replacing the entire resource. (Update/Replace)\n",
        "\n",
        " 4)DELETE: Deletes the specified resource. (Delete)\n"
      ],
      "metadata": {
        "id": "Hg0ZbbID13m1"
      }
    },
    {
      "cell_type": "markdown",
      "source": [
        "7. What is the purpose of the @app.route() decorator in Flask ?\n",
        "\n",
        "   ans = The @app.route() decorator in Flask is used to associate a URL path with a Python function (a \"view function\"). It tells Flask what URL should trigger the execution of the decorated function. When a client requests that URL, Flask's routing mechanism will call the corresponding function and return its result as the response. It simplifies the process of defining URL patterns and their respective handlers"
      ],
      "metadata": {
        "id": "v3fCoNwO2AV3"
      }
    },
    {
      "cell_type": "markdown",
      "source": [
        "8. What is the difference between GET and POST HTTP methods ?\n",
        "\n",
        "  ans =  GET Method:\n",
        " 1) its Used to request data from a specified resource. It's primarily for retrieving information.\n",
        "\n",
        " 2)Data Transmission: Parameters are sent in the URL as query strings\n",
        "\n",
        " 3) Data sent via GET is visible in the URL, browser history, and server logs.\n",
        "\n",
        " 4) Making the same GET request multiple times will have the same effect on the server (i.e., it doesn't change the server state). It's safe to retry GET requests.\n",
        "\n",
        " POST Method:\n",
        " 1) its Used to send data to a server to create or update a resource. It's primarily for submitting information.\n",
        "\n",
        " 2) Parameters are sent in the body of the HTTP request.\n",
        "\n",
        " 3) Data sent via POST is not visible in the URL. It's not stored in browser history or server logs in the same way as GET.\n",
        "\n",
        " 4) POST requests are generally not cached.\n"
      ],
      "metadata": {
        "id": "-Mk6O0eB2KGA"
      }
    },
    {
      "cell_type": "markdown",
      "source": [
        "9. How do you handle errors in Flask APIs ?\n",
        "\n",
        "  ans = Error handling in Flask APIs can be done in several ways:\n",
        "\n",
        " 1) @app.errorhandler() decorator: This is the primary way to register custom error handlers for specific HTTP status codes (e.g., 404 Not Found, 500 Internal Server Error) or exception types.\n",
        "\n",
        " 2)abort() function: This function from flask can be used to immediately raise an HTTP error with a specific status code.\n",
        "\n",
        " 3)Custom Exception Classes: Define your own exception classes and then register error handlers for them.\n"
      ],
      "metadata": {
        "id": "jETC0LTF2af6"
      }
    },
    {
      "cell_type": "markdown",
      "source": [
        "10.  How do you connect Flask to a SQL database ?\n",
        "\n",
        "    ans = To connect Flask to a SQL database, you typically use an Object-Relational Mapper (ORM) or a database connector library. Common approaches include:\n",
        "\n",
        " 1) SQLAlchemy: A powerful and widely used ORM for Python. Flask has an extension called Flask-SQLAlchemy that simplifies integration. You define models that map to database tables, and Flask-SQLAlchemy handles the connection, session management, and querying.\n",
        "\n",
        " 2)Raw Database Connectors: Libraries like psycopg2 (for PostgreSQL), mysql-connector-python (for MySQL), or sqlite3 (built-in for SQLite) can be used directly. However, this requires more manual SQL querying and connection management."
      ],
      "metadata": {
        "id": "LFNiHWcI2fJQ"
      }
    },
    {
      "cell_type": "markdown",
      "source": [
        "11. What is the role of Flask-SQLAlchemy ?\n",
        "\n",
        "   ans = Flask-SQLAlchemy is a Flask extension that provides SQLAlchemy support for Flask applications. Its primary roles are:\n",
        "\n",
        " 1) Simplifying Database Integration: It abstracts away much of the boilerplate code required to set up and manage SQLAlchemy within a Flask application.\n",
        "\n",
        " 2)Session Management: It provides a pre-configured SQLAlchemy session that is integrated with Flask's request context, ensuring proper session handling and cleanup."
      ],
      "metadata": {
        "id": "6OjZxoA52oSv"
      }
    },
    {
      "cell_type": "markdown",
      "source": [
        "12. What are Flask blueprints, and how are they useful ?\n",
        "\n",
        "   ans = Flask blueprints are a way to organize your Flask application into smaller, reusable components. They allow you to define a collection of routes, static files, and templates in a separate file or module that can then be registered with the main Flask application.\n",
        "   * Modularity: Breaking down a large application into manageable, independent modules.\n",
        " * Reusability: Blueprints can be registered with multiple Flask applications, promoting code reuse.\n",
        " * Maintainability: Easier to manage and debug specific parts of the application."
      ],
      "metadata": {
        "id": "aPnSQDpv23CP"
      }
    },
    {
      "cell_type": "markdown",
      "source": [
        "13. What is the purpose of Flask's request object ?\n",
        "\n",
        "   ans = Flask's request object (from flask.request) is a global proxy object that represents the current incoming HTTP request. It provides access to all the data and information associated with the client's request.\n",
        "\n",
        " Access form data (request.form).\n",
        "\n",
        "  Access query parameters from the URL (request.args).\n",
        "\n",
        "  Access JSON data sent in the request body (request.json).\n",
        "\n",
        "  Access HTTP headers (request.headers).\n",
        "\n",
        "  Access cookies (request.cookies)."
      ],
      "metadata": {
        "id": "xYw_xCNt3BzB"
      }
    },
    {
      "cell_type": "markdown",
      "source": [
        "14. How do you create a RESTful API endpoint using Flask ?\n",
        "\n",
        "  ans =\n",
        "   * Defining a route: Using @app.route() or @blueprint.route() with the appropriate URL path.\n",
        " * Specifying HTTP methods: Using the methods argument in the decorator (e.g., methods=['GET', 'POST']).\n",
        " * Handling request data: Accessing data from request.args, request.form, or request.json based on the HTTP method and content type.\n",
        " * Performing business logic: Interacting with a database, performing calculations, etc."
      ],
      "metadata": {
        "id": "bTOXbYXU3Lqt"
      }
    },
    {
      "cell_type": "markdown",
      "source": [
        "15. What is the purpose of Flask's jsonify() function ?\n",
        "\n",
        "    ans = Flask's jsonify() function is a helper function used to serialize Python dictionaries or lists into JSON formatted HTTP responses. Its main purposes are:\n",
        "\n",
        " JSON Serialization: Converts Python data structures into a JSON string.\n",
        "\n",
        "  Setting Content-Type Header: Automatically sets the Content-Type header of the response to application/json, which is crucial for APIs to inform clients about the data format.\n",
        "\n",
        "  Creating a Response Object: It wraps the JSON string in a Flask Response object.\n",
        "It simplifies the process of sending JSON data back to the client in a RESTful API."
      ],
      "metadata": {
        "id": "SK1PeEkB3aUH"
      }
    },
    {
      "cell_type": "markdown",
      "source": [
        "16. Explain Flask’s url_for() function.\n",
        "\n",
        "  ans = Flask's url_for() function is used to generate a URL for a given view function. Instead of hardcoding URLs in your templates or code, url_for() allows you to refer to them by their function name.\n",
        "Its benefits include:\n",
        "\n",
        " Decoupling: If you change the URL path in your @app.route() decorator, url_for() will automatically generate the correct new URL, without needing to update every reference in your code.\n",
        "\n",
        "  Reverse URL Mapping: It performs reverse URL mapping, finding the URL associated with a specific endpoint.\n",
        "\n",
        "  Dynamic URLs: It can handle URL variables by passing them as keyword arguments\n"
      ],
      "metadata": {
        "id": "aU9EHXQH33iE"
      }
    },
    {
      "cell_type": "markdown",
      "source": [
        "17. How does Flask handle static files (CSS, JavaScript, etc.) ?  \n",
        "\n",
        "   ans = 1)Flask automatically serves static files from a directory named static within your application's root directory by default.\n",
        "   \n",
        "   2)You typically place your CSS, JavaScript, images, and other static assets in this static folder.\n",
        "\n",
        " 3) In your templates or code, you use the url_for() function with the special endpoint 'static' to generate URLs for these files. The filename is passed as a filename argument."
      ],
      "metadata": {
        "id": "_TRFE_fc5b87"
      }
    },
    {
      "cell_type": "markdown",
      "source": [
        "18. What is an API specification, and how does it help in building a Flask API?\n",
        "\n",
        "   ans =An API specification (like OpenAPI) describes your Flask API's structure, endpoints, methods, parameters, and responses.\n",
        "It helps in building a Flask API\n",
        "\n",
        " 1) Clear Documentation: Generates interactive and up-to-date documentation for your API, making it easy for front-end developers and other consumers to understand and use.\n",
        "\n",
        " 2)Code Generation: Tools can generate client SDKs (for various programming languages) or server stubs directly from the specification, accelerating development.\n",
        "\n",
        " 3)Consistency: Enforces a consistent design across your API, reducing errors and improving maintainability.\n",
        "\n",
        " 4)Testing: Facilitates automated testing by providing a clear definition of expected inputs and outputs."
      ],
      "metadata": {
        "id": "LkHJmuOy63iu"
      }
    },
    {
      "cell_type": "markdown",
      "source": [
        "19. What are HTTP status codes, and why are they important in a Flask API ?\n",
        "\n",
        "   ans = HTTP status codes are three-digit numbers returned by a server in response to an HTTP request. They indicate the outcome of the request, classifying it into categories like informational, successful, redirection, client error, or server error.\n",
        "\n",
        " Communication: They provide immediate feedback to the client about the result of their request without requiring them to parse the response      body.\n",
        "\n",
        "  Standardization: They follow a widely accepted standard, making APIs more predictable and easier for clients to interact with consistently.\n"
      ],
      "metadata": {
        "id": "FdZLugFl7OTy"
      }
    },
    {
      "cell_type": "markdown",
      "source": [
        "20. How do you handle POST requests in Flask ?\n",
        "\n",
        "    ans = Defining the route: Using the @app.route() decorator and specifying methods=['POST'] (or methods=['GET', 'POST'] if it also handles GET).\n",
        " * Accessing request data:\n",
        "   * For form submissions (e.g., from an HTML form), use request.form.\n",
        "   * For JSON data (common in APIs), use request.json.\n",
        "   * For file uploads, use request.files.\n",
        " * Processing data: Validate the incoming data, perform necessary business logic (e.g., saving to a database)."
      ],
      "metadata": {
        "id": "rB0h-c8y7l9i"
      }
    },
    {
      "cell_type": "markdown",
      "source": [
        "21. How would you secure a Flask API ?\n",
        "\n",
        "  ans = 1)Authentication: Verify user identity, often using Token-based (JWT) or OAuth 2.0.\n",
        " 2) Authorization: Control what authenticated users can do, using Role-Based Access Control (RBAC) or granular permissions.\n",
        " 3) Input Validation: Sanitize all user input to prevent injection attacks (e.g., SQL injection, XSS).\n",
        " 4)HTTPS/SSL/TLS: Encrypt all communication between client and API for data protection in transit.\n",
        " 5)Rate Limiting: Prevent brute-force attacks and DoS by limiting request frequency.\n",
        " 6)CORS Configuration: Control which external domains can access your API."
      ],
      "metadata": {
        "id": "hXLeuUXJ73ve"
      }
    },
    {
      "cell_type": "markdown",
      "source": [
        "22. What is the significance of the Flask-RESTful extension ?\n",
        "\n",
        "   ans = Flask-RESTful is a Flask extension that provides tools for quickly building REST APIs. Its significance lies in:\n",
        "\n",
        "  Resource Abstraction: It introduces the concept of Resources, which are Python classes that map to specific API endpoints and handle different HTTP methods (GET, POST, PUT, DELETE) as class methods. This promotes cleaner, more organized code.\n",
        "\n",
        "  Request Parsing: Provides reqparse for easily parsing and validating arguments from the request (query parameters, form data, JSON body) with type checking and required fields.\n",
        "\n",
        "  Error Handling: Simplifies error handling by automatically converting raised exceptions into appropriate HTTP error responses."
      ],
      "metadata": {
        "id": "IXJXutKv8KPW"
      }
    },
    {
      "cell_type": "markdown",
      "source": [
        "23. What is the role of Flask’s session object ?\n",
        "\n",
        "   ans = Flask's session object (from flask.session) is a dictionary-like object that allows you to store data specific to a user's session between requests. It's designed to maintain state for a particular user across multiple interactions with the web application.\n",
        "\n",
        "  Maintaining User State: Stores temporary data about the current user, such as login status, user preferences, shopping cart contents, or temporary messages.\n",
        "  \n",
        "   Temporary Data: Data stored in the session is typically temporary and tied to the user's browser session. When the user closes their browser (or the session expires), the data is lost.\n",
        "\n",
        "  Security: Requires a SECRET_KEY configured in your Flask application for secure signing of the session cookie. Without it, the session data is insecure."
      ],
      "metadata": {
        "id": "MuKNnIqC8VEf"
      }
    },
    {
      "cell_type": "markdown",
      "source": [
        "# ***Practical***\n",
        "\n",
        "---\n",
        "\n"
      ],
      "metadata": {
        "id": "xNDKEh1N8pIf"
      }
    },
    {
      "cell_type": "markdown",
      "source": [
        "1. How do you create a basic Flask application ?"
      ],
      "metadata": {
        "id": "Ty5hmDur8v2T"
      }
    },
    {
      "cell_type": "code",
      "source": [
        "# app.py\n",
        "from flask import Flask\n",
        "\n",
        "app = Flask(__name__)\n",
        "\n",
        "@app.route('/')\n",
        "def hello_world():\n",
        "    return 'Hello, World!'\n",
        "\n",
        "if __name__ == '__main__':\n",
        "    app.run(debug=True)"
      ],
      "metadata": {
        "id": "sQOJzoWVRP0F",
        "colab": {
          "base_uri": "https://localhost:8080/"
        },
        "outputId": "3ac77055-d240-4db1-bd96-81763df8464c"
      },
      "execution_count": 3,
      "outputs": [
        {
          "output_type": "stream",
          "name": "stdout",
          "text": [
            " * Serving Flask app '__main__'\n",
            " * Debug mode: on\n"
          ]
        },
        {
          "output_type": "stream",
          "name": "stderr",
          "text": [
            "INFO:werkzeug:\u001b[31m\u001b[1mWARNING: This is a development server. Do not use it in a production deployment. Use a production WSGI server instead.\u001b[0m\n",
            " * Running on http://127.0.0.1:5000\n",
            "INFO:werkzeug:\u001b[33mPress CTRL+C to quit\u001b[0m\n",
            "INFO:werkzeug: * Restarting with stat\n"
          ]
        }
      ]
    },
    {
      "cell_type": "markdown",
      "source": [
        "2.  How do you serve static files like images or CSS in Flask ?"
      ],
      "metadata": {
        "id": "yRc6aDVA83Wr"
      }
    },
    {
      "cell_type": "code",
      "source": [],
      "metadata": {
        "id": "692u9RfS88RU"
      },
      "execution_count": null,
      "outputs": []
    },
    {
      "cell_type": "markdown",
      "source": [
        "3. How do you define different routes with different HTTP methods in Flask ?"
      ],
      "metadata": {
        "id": "QRTtVFro9A05"
      }
    },
    {
      "cell_type": "code",
      "source": [
        "from flask import Flask, request\n",
        "\n",
        "app = Flask(__name__)\n",
        "\n",
        "@app.route('/data', methods=['GET'])\n",
        "def get_data():\n",
        "    return 'This is GET request data.'\n",
        "\n",
        "@app.route('/data', methods=['POST'])\n",
        "def post_data():\n",
        "    return 'This is POST request data.'\n",
        "@app.route('/item/<int:item_id>', methods=['GET', 'PUT', 'DELETE'])\n",
        "def handle_item(item_id):\n",
        "    if request.method == 'GET':\n",
        "        return f'Retrieving item {item_id}'\n",
        "    elif request.method == 'PUT':\n",
        "        return f'Updating item {item_id}'\n",
        "    elif request.method == 'DELETE':\n",
        "        return f'Deleting item {item_id}'\n",
        "\n",
        "if __name__ == '__main__':\n",
        "    app.run(debug=True)\n"
      ],
      "metadata": {
        "id": "V8h4y_pG9JHS",
        "colab": {
          "base_uri": "https://localhost:8080/"
        },
        "outputId": "d016c497-f615-417d-ad3c-45023bee82be"
      },
      "execution_count": 12,
      "outputs": [
        {
          "output_type": "stream",
          "name": "stdout",
          "text": [
            " * Serving Flask app '__main__'\n",
            " * Debug mode: on\n"
          ]
        },
        {
          "output_type": "stream",
          "name": "stderr",
          "text": [
            "INFO:werkzeug:\u001b[31m\u001b[1mWARNING: This is a development server. Do not use it in a production deployment. Use a production WSGI server instead.\u001b[0m\n",
            " * Running on http://127.0.0.1:5000\n",
            "INFO:werkzeug:\u001b[33mPress CTRL+C to quit\u001b[0m\n",
            "INFO:werkzeug: * Restarting with stat\n"
          ]
        }
      ]
    },
    {
      "cell_type": "markdown",
      "source": [
        "4. How do you render HTML templates in Flask ?"
      ],
      "metadata": {
        "id": "8xYquK5n9Jyi"
      }
    },
    {
      "cell_type": "code",
      "source": [
        "from flask import Flask, render_template\n",
        "\n",
        "app = Flask(__name__)\n",
        "\n",
        "@app.route('/')\n",
        "def home():\n",
        "\n",
        "    return render_template('index.html')\n",
        "\n",
        "@app.route('/about')\n",
        "def about():\n",
        "\n",
        "    name = \"piyush\"\n",
        "    return render_template('about.html', user_name=name)\n",
        "\n",
        "if __name__ == '__main__':\n",
        "    app.run(debug=True)"
      ],
      "metadata": {
        "id": "AXFHP9h39PxJ",
        "colab": {
          "base_uri": "https://localhost:8080/"
        },
        "outputId": "51abcd80-4730-4ef6-da5e-0e9c9aa093f6"
      },
      "execution_count": 16,
      "outputs": [
        {
          "output_type": "stream",
          "name": "stdout",
          "text": [
            " * Serving Flask app '__main__'\n",
            " * Debug mode: on\n"
          ]
        },
        {
          "output_type": "stream",
          "name": "stderr",
          "text": [
            "INFO:werkzeug:\u001b[31m\u001b[1mWARNING: This is a development server. Do not use it in a production deployment. Use a production WSGI server instead.\u001b[0m\n",
            " * Running on http://127.0.0.1:5000\n",
            "INFO:werkzeug:\u001b[33mPress CTRL+C to quit\u001b[0m\n",
            "INFO:werkzeug: * Restarting with stat\n"
          ]
        }
      ]
    },
    {
      "cell_type": "markdown",
      "source": [],
      "metadata": {
        "id": "n1hNckNUeOJf"
      }
    },
    {
      "cell_type": "markdown",
      "source": [
        "5.  How can you generate URLs for routes in Flask using url_for ?"
      ],
      "metadata": {
        "id": "ptJ5QsI59QhT"
      }
    },
    {
      "cell_type": "code",
      "source": [
        "from flask import Flask, url_for, render_template\n",
        "\n",
        "app = Flask(__name__)\n",
        "\n",
        "@app.route('/')\n",
        "def home():\n",
        "\n",
        "    about_url = url_for('about')\n",
        "    return f\"<h1>Welcome!</h1><p>Go to <a href='{about_url}'>About Us</a></p>\"\n",
        "\n",
        "@app.route('/about')\n",
        "def about():\n",
        "    return \"<h1>About Us Page</h1><p><a href='/'>Go Home</a></p>\"\n",
        "\n",
        "if __name__ == '__main__':\n",
        "    app.run(debug=True)"
      ],
      "metadata": {
        "id": "5LBeqQam9Weo",
        "colab": {
          "base_uri": "https://localhost:8080/"
        },
        "outputId": "ed5899c9-7935-4420-b24a-e2d0d48c129f"
      },
      "execution_count": 20,
      "outputs": [
        {
          "output_type": "stream",
          "name": "stdout",
          "text": [
            " * Serving Flask app '__main__'\n",
            " * Debug mode: on\n"
          ]
        },
        {
          "output_type": "stream",
          "name": "stderr",
          "text": [
            "INFO:werkzeug:\u001b[31m\u001b[1mWARNING: This is a development server. Do not use it in a production deployment. Use a production WSGI server instead.\u001b[0m\n",
            " * Running on http://127.0.0.1:5000\n",
            "INFO:werkzeug:\u001b[33mPress CTRL+C to quit\u001b[0m\n",
            "INFO:werkzeug: * Restarting with stat\n"
          ]
        }
      ]
    },
    {
      "cell_type": "markdown",
      "source": [
        "6. How do you handle forms in Flask ?"
      ],
      "metadata": {
        "id": "TTvrjP8j9Xdv"
      }
    },
    {
      "cell_type": "code",
      "source": [
        "from flask import Flask, url_for, render_template, request\n",
        "\n",
        "app = Flask(__name__)\n",
        "\n",
        "@app.route('/form')\n",
        "\n",
        "    return render_template('form.html')\n",
        "\n",
        "@app.route('/submit', methods=['POST'])\n",
        "def submit_form():\n",
        "    if request.method == 'POST':\n",
        "\n",
        "        user_name = request.form.get('user_name')\n",
        "        if user_name:\n",
        "            return f'Hello, {user_name}! Form submitted successfully.'\n",
        "        else:\n",
        "            return 'Error: user_name not provided in the form.', 400\n",
        "\n",
        "if __name__ == '__main__':\n",
        "    app.run(debug=True)"
      ],
      "metadata": {
        "id": "1_GMVmOS9eSq",
        "colab": {
          "base_uri": "https://localhost:8080/"
        },
        "outputId": "7d9df31e-45db-4f23-b921-c5870de15860"
      },
      "execution_count": 30,
      "outputs": [
        {
          "output_type": "stream",
          "name": "stdout",
          "text": [
            " * Serving Flask app '__main__'\n",
            " * Debug mode: on\n"
          ]
        },
        {
          "output_type": "stream",
          "name": "stderr",
          "text": [
            "INFO:werkzeug:\u001b[31m\u001b[1mWARNING: This is a development server. Do not use it in a production deployment. Use a production WSGI server instead.\u001b[0m\n",
            " * Running on http://127.0.0.1:5000\n",
            "INFO:werkzeug:\u001b[33mPress CTRL+C to quit\u001b[0m\n",
            "INFO:werkzeug: * Restarting with stat\n"
          ]
        }
      ]
    },
    {
      "cell_type": "markdown",
      "source": [
        "7.  How can you validate form data in Flask ?"
      ],
      "metadata": {
        "id": "N5AI2Qli9e-1"
      }
    },
    {
      "cell_type": "code",
      "source": [
        "pip install Flask-WTF"
      ],
      "metadata": {
        "id": "QhJU75ch9kSn",
        "colab": {
          "base_uri": "https://localhost:8080/"
        },
        "outputId": "f26cb47d-659a-4ced-d8c4-f42c43a5a3d1"
      },
      "execution_count": 31,
      "outputs": [
        {
          "output_type": "stream",
          "name": "stdout",
          "text": [
            "Collecting Flask-WTF\n",
            "  Downloading flask_wtf-1.2.2-py3-none-any.whl.metadata (3.4 kB)\n",
            "Requirement already satisfied: flask in /usr/local/lib/python3.11/dist-packages (from Flask-WTF) (3.1.1)\n",
            "Requirement already satisfied: itsdangerous in /usr/local/lib/python3.11/dist-packages (from Flask-WTF) (2.2.0)\n",
            "Collecting wtforms (from Flask-WTF)\n",
            "  Downloading wtforms-3.2.1-py3-none-any.whl.metadata (5.3 kB)\n",
            "Requirement already satisfied: blinker>=1.9.0 in /usr/local/lib/python3.11/dist-packages (from flask->Flask-WTF) (1.9.0)\n",
            "Requirement already satisfied: click>=8.1.3 in /usr/local/lib/python3.11/dist-packages (from flask->Flask-WTF) (8.2.1)\n",
            "Requirement already satisfied: jinja2>=3.1.2 in /usr/local/lib/python3.11/dist-packages (from flask->Flask-WTF) (3.1.6)\n",
            "Requirement already satisfied: markupsafe>=2.1.1 in /usr/local/lib/python3.11/dist-packages (from flask->Flask-WTF) (3.0.2)\n",
            "Requirement already satisfied: werkzeug>=3.1.0 in /usr/local/lib/python3.11/dist-packages (from flask->Flask-WTF) (3.1.3)\n",
            "Downloading flask_wtf-1.2.2-py3-none-any.whl (12 kB)\n",
            "Downloading wtforms-3.2.1-py3-none-any.whl (152 kB)\n",
            "\u001b[2K   \u001b[90m━━━━━━━━━━━━━━━━━━━━━━━━━━━━━━━━━━━━━━━━\u001b[0m \u001b[32m152.5/152.5 kB\u001b[0m \u001b[31m4.0 MB/s\u001b[0m eta \u001b[36m0:00:00\u001b[0m\n",
            "\u001b[?25hInstalling collected packages: wtforms, Flask-WTF\n",
            "Successfully installed Flask-WTF-1.2.2 wtforms-3.2.1\n"
          ]
        }
      ]
    },
    {
      "cell_type": "code",
      "source": [
        "from flask import Flask, render_template, request, flash, redirect, url_for\n",
        "from flask_wtf import FlaskForm\n",
        "from wtforms import StringField, PasswordField, SubmitField\n",
        "from wtforms.validators import DataRequired, Email, EqualTo, Length\n",
        "\n",
        "app = Flask(__name__)\n",
        "app.config['SECRET_KEY'] = 'your_secret_key_here'\n",
        "\n",
        "class RegistrationForm(FlaskForm):\n",
        "    username = StringField('Username', validators=[DataRequired(), Length(min=4, max=20)])\n",
        "    email = StringField('Email', validators=[DataRequired(), Email()])\n",
        "    password = PasswordField('Password', validators=[DataRequired(), Length(min=6)])\n",
        "    confirm_password = PasswordField('Confirm Password', validators=[DataRequired(), EqualTo('password')])\n",
        "    submit = SubmitField('Register')\n",
        "\n",
        "@app.route('/register', methods=['GET', 'POST'])\n",
        "def register():\n",
        "    form = RegistrationForm()\n",
        "    if form.validate_on_submit():\n",
        "        # Form data is valid, process it\n",
        "        username = form.username.data\n",
        "        email = form.email.data\n",
        "        password = form.password.data\n",
        "        flash(f'Account created for {username}!', 'success')\n",
        "        # In a real application, you'd save this to a database\n",
        "        print(f\"User: {username}, Email: {email}, Password: {password}\")\n",
        "        return redirect(url_for('success_page'))\n",
        "    return render_template('register.html', form=form)\n",
        "\n",
        "@app.route('/success')\n",
        "def success_page():\n",
        "    return \"Registration Successful!\"\n",
        "\n",
        "if __name__ == '__main__':\n",
        "    app.run(debug=True)"
      ],
      "metadata": {
        "colab": {
          "base_uri": "https://localhost:8080/"
        },
        "id": "e3VGZn9Sin2L",
        "outputId": "5c2ed63a-d6f8-4e6d-ed75-0bccb2dfef67"
      },
      "execution_count": 36,
      "outputs": [
        {
          "output_type": "stream",
          "name": "stdout",
          "text": [
            " * Serving Flask app '__main__'\n",
            " * Debug mode: on\n"
          ]
        },
        {
          "output_type": "stream",
          "name": "stderr",
          "text": [
            "INFO:werkzeug:\u001b[31m\u001b[1mWARNING: This is a development server. Do not use it in a production deployment. Use a production WSGI server instead.\u001b[0m\n",
            " * Running on http://127.0.0.1:5000\n",
            "INFO:werkzeug:\u001b[33mPress CTRL+C to quit\u001b[0m\n",
            "INFO:werkzeug: * Restarting with stat\n"
          ]
        }
      ]
    },
    {
      "cell_type": "markdown",
      "source": [
        "8. How do you manage sessions in Flask ?"
      ],
      "metadata": {
        "id": "LraZYuD29luu"
      }
    },
    {
      "cell_type": "code",
      "source": [
        "from flask import Flask, session\n",
        "\n",
        "app = Flask(__name__)\n",
        "app.config['SECRET_KEY'] = 'your_very_secret_and_unique_key_here'"
      ],
      "metadata": {
        "id": "YPvZGecg9sCG"
      },
      "execution_count": 38,
      "outputs": []
    },
    {
      "cell_type": "markdown",
      "source": [
        "9.  How do you redirect to a different route in Flask ?"
      ],
      "metadata": {
        "id": "kCD96pVJ9s4e"
      }
    },
    {
      "cell_type": "code",
      "source": [
        "from flask import Flask, redirect, url_for\n",
        "\n",
        "app = Flask(__name__)\n",
        "\n",
        "@app.route('/')\n",
        "def index():\n",
        "    return \"This is the index page. You will be redirected from '/old_route'.\"\n",
        "\n",
        "@app.route('/old_route')\n",
        "def old_route():\n",
        "\n",
        "    return redirect(url_for('new_route'))\n",
        "\n",
        "@app.route('/new_route')\n",
        "def new_route():\n",
        "    return \"This is the new route!\"\n",
        "\n",
        "if __name__ == '__main__':\n",
        "    app.run(debug=True)"
      ],
      "metadata": {
        "id": "oRMXkVei93zs",
        "colab": {
          "base_uri": "https://localhost:8080/"
        },
        "outputId": "a8bf95e3-285e-4c43-98e7-82fd1f67eefb"
      },
      "execution_count": 2,
      "outputs": [
        {
          "output_type": "stream",
          "name": "stdout",
          "text": [
            " * Serving Flask app '__main__'\n",
            " * Debug mode: on\n"
          ]
        },
        {
          "output_type": "stream",
          "name": "stderr",
          "text": [
            "INFO:werkzeug:\u001b[31m\u001b[1mWARNING: This is a development server. Do not use it in a production deployment. Use a production WSGI server instead.\u001b[0m\n",
            " * Running on http://127.0.0.1:5000\n",
            "INFO:werkzeug:\u001b[33mPress CTRL+C to quit\u001b[0m\n",
            "INFO:werkzeug: * Restarting with stat\n"
          ]
        }
      ]
    },
    {
      "cell_type": "markdown",
      "source": [
        "10. How do you handle errors in Flask (e.g., 404) ?"
      ],
      "metadata": {
        "id": "2ju6MQhP97L8"
      }
    },
    {
      "cell_type": "code",
      "source": [
        "from flask import Flask, render_template\n",
        "\n",
        "app = Flask(__name__)\n",
        "@app.errorhandler(404)\n",
        "def page_not_found(e):\n",
        "    \"\"\"\n",
        "    Handles 404 Not Found errors.\n",
        "    \"\"\"\n",
        "    return render_template('404.html'), 404\n",
        "\n",
        "@app.route('/')\n",
        "def index():\n",
        "    return \"Welcome to the Flask app!\"\n",
        "\n",
        "if __name__ == '__main__':\n",
        "    app.run(debug=True)"
      ],
      "metadata": {
        "id": "W6tmn0c5-HtQ",
        "colab": {
          "base_uri": "https://localhost:8080/"
        },
        "outputId": "0f33afdd-ad52-430c-990e-cf94341bd0e3"
      },
      "execution_count": 4,
      "outputs": [
        {
          "output_type": "stream",
          "name": "stdout",
          "text": [
            " * Serving Flask app '__main__'\n",
            " * Debug mode: on\n"
          ]
        },
        {
          "output_type": "stream",
          "name": "stderr",
          "text": [
            "INFO:werkzeug:\u001b[31m\u001b[1mWARNING: This is a development server. Do not use it in a production deployment. Use a production WSGI server instead.\u001b[0m\n",
            " * Running on http://127.0.0.1:5000\n",
            "INFO:werkzeug:\u001b[33mPress CTRL+C to quit\u001b[0m\n",
            "INFO:werkzeug: * Restarting with stat\n"
          ]
        }
      ]
    },
    {
      "cell_type": "markdown",
      "source": [
        "11. How do you structure a Flask app using Blueprints ?"
      ],
      "metadata": {
        "id": "AhKqUAHV-Iko"
      }
    },
    {
      "cell_type": "code",
      "source": [
        "from flask import Blueprint, Flask\n",
        "\n",
        "my_blueprint = Blueprint('my_blueprint', __name__)\n",
        "\n",
        "@my_blueprint.route('/blueprint_route')\n",
        "def blueprint_route():\n",
        "    return \"This is a route from the blueprint!\"\n",
        "\n",
        "def create_app():\n",
        "    app = Flask(__name__)\n",
        "\n",
        "    app.register_blueprint(my_blueprint)\n",
        "    return app\n",
        "\n",
        "app = create_app()\n",
        "\n",
        "if __name__ == '__main__':\n",
        "    pass\n",
        "app.run(debug=True)"
      ],
      "metadata": {
        "id": "XvlP75Ly-N5y",
        "colab": {
          "base_uri": "https://localhost:8080/"
        },
        "outputId": "db2608b8-45a3-46c5-c592-98d6897b169a"
      },
      "execution_count": 7,
      "outputs": [
        {
          "output_type": "stream",
          "name": "stdout",
          "text": [
            " * Serving Flask app '__main__'\n",
            " * Debug mode: on\n"
          ]
        },
        {
          "output_type": "stream",
          "name": "stderr",
          "text": [
            "INFO:werkzeug:\u001b[31m\u001b[1mWARNING: This is a development server. Do not use it in a production deployment. Use a production WSGI server instead.\u001b[0m\n",
            " * Running on http://127.0.0.1:5000\n",
            "INFO:werkzeug:\u001b[33mPress CTRL+C to quit\u001b[0m\n",
            "INFO:werkzeug: * Restarting with stat\n"
          ]
        }
      ]
    },
    {
      "cell_type": "markdown",
      "source": [
        "12.  How do you define a custom Jinja filter in Flask ?"
      ],
      "metadata": {
        "id": "8gdfXpyt-OuD"
      }
    },
    {
      "cell_type": "code",
      "source": [
        "from flask import Flask, render_template\n",
        "\n",
        "app = Flask(__name__)\n",
        "\n",
        "def reverse_string(s):\n",
        "    return s[::-1]\n",
        "\n",
        "app.jinja_env.filters['reverse'] = reverse_string\n",
        "\n",
        "@app.route('/')\n",
        "def index():\n",
        "    my_text = \"Hello Flask\"\n",
        "\n",
        "    return render_template('index.html', text=my_text)\n",
        "\n",
        "if __name__ == '__main__':\n",
        "    app.run(debug = True)\n",
        "    pass"
      ],
      "metadata": {
        "id": "GlhaY2Mt-Twf",
        "colab": {
          "base_uri": "https://localhost:8080/"
        },
        "outputId": "12d819cd-fce0-46ae-acfb-a40198d44c1f"
      },
      "execution_count": 10,
      "outputs": [
        {
          "output_type": "stream",
          "name": "stdout",
          "text": [
            " * Serving Flask app '__main__'\n",
            " * Debug mode: on\n"
          ]
        },
        {
          "output_type": "stream",
          "name": "stderr",
          "text": [
            "INFO:werkzeug:\u001b[31m\u001b[1mWARNING: This is a development server. Do not use it in a production deployment. Use a production WSGI server instead.\u001b[0m\n",
            " * Running on http://127.0.0.1:5000\n",
            "INFO:werkzeug:\u001b[33mPress CTRL+C to quit\u001b[0m\n",
            "INFO:werkzeug: * Restarting with stat\n"
          ]
        }
      ]
    },
    {
      "cell_type": "markdown",
      "source": [
        "13.  How can you redirect with query parameters in Flask ?"
      ],
      "metadata": {
        "id": "U_D4V95e-U1B"
      }
    },
    {
      "cell_type": "code",
      "source": [
        "from flask import Flask, redirect, url_for, request, render_template\n",
        "\n",
        "app = Flask(__name__)\n",
        "\n",
        "@app.route('/')\n",
        "def index():\n",
        "    return \"Welcome to the index page. Go to /redirect_example to see a redirect with query params.\"\n",
        "\n",
        "@app.route('/redirect_example')\n",
        "def redirect_example():\n",
        "\n",
        "    data_id = 123\n",
        "    status_message = \"success\"\n",
        "\n",
        "    return redirect(url_for('target_page', id=data_id, status=status_message))\n",
        "\n",
        "@app.route('/target_page')\n",
        "def target_page():\n",
        "\n",
        "    item_id = request.args.get('id')\n",
        "    status = request.args.get('status')\n",
        "\n",
        "    if item_id and status:\n",
        "        return f\"You have reached the target page. Received ID: {item_id}, Status: {status}\"\n",
        "    else:\n",
        "        return \"You have reached the target page, but no specific query parameters were found.\"\n",
        "\n",
        "if __name__ == '__main__':\n",
        "    app.run(debug=True)"
      ],
      "metadata": {
        "id": "HUP6sGc2-ZiH",
        "colab": {
          "base_uri": "https://localhost:8080/"
        },
        "outputId": "4359d8a7-30bf-4e16-fece-bc6339479e72"
      },
      "execution_count": 12,
      "outputs": [
        {
          "output_type": "stream",
          "name": "stdout",
          "text": [
            " * Serving Flask app '__main__'\n",
            " * Debug mode: on\n"
          ]
        },
        {
          "output_type": "stream",
          "name": "stderr",
          "text": [
            "INFO:werkzeug:\u001b[31m\u001b[1mWARNING: This is a development server. Do not use it in a production deployment. Use a production WSGI server instead.\u001b[0m\n",
            " * Running on http://127.0.0.1:5000\n",
            "INFO:werkzeug:\u001b[33mPress CTRL+C to quit\u001b[0m\n",
            "INFO:werkzeug: * Restarting with stat\n"
          ]
        }
      ]
    },
    {
      "cell_type": "markdown",
      "source": [
        "14.  How do you return JSON responses in Flask ?"
      ],
      "metadata": {
        "id": "Q1oz_cV6-aaq"
      }
    },
    {
      "cell_type": "code",
      "source": [
        "from flask import Flask, jsonify\n",
        "\n",
        "app = Flask(__name__)\n",
        "\n",
        "@app.route('/data')\n",
        "def get_data():\n",
        "    data = {\n",
        "        \"name\": \"Alice\",\n",
        "        \"age\": 30,\n",
        "        \"isStudent\": False,\n",
        "        \"courses\": [\"Math\", \"Science\", \"History\"]\n",
        "    }\n",
        "    return jsonify(data)\n",
        "\n",
        "@app.route('/error')\n",
        "def get_error():\n",
        "    error_message = {\n",
        "        \"status\": \"error\",\n",
        "        \"code\": 400,\n",
        "        \"message\": \"Invalid request parameters\"\n",
        "    }\n",
        "\n",
        "    return jsonify(error_message), 400\n",
        "\n",
        "@app.route('/')\n",
        "def index():\n",
        "    return \"Visit /data for a JSON response or /error for an error JSON response.\"\n",
        "\n",
        "if __name__ == '__main__':\n",
        "    app.run(debug=True)"
      ],
      "metadata": {
        "id": "uebxaRBD-g3g",
        "colab": {
          "base_uri": "https://localhost:8080/"
        },
        "outputId": "9efc9239-cc3d-411c-e7e6-716f8b1fe703"
      },
      "execution_count": 15,
      "outputs": [
        {
          "output_type": "stream",
          "name": "stdout",
          "text": [
            " * Serving Flask app '__main__'\n",
            " * Debug mode: on\n"
          ]
        },
        {
          "output_type": "stream",
          "name": "stderr",
          "text": [
            "INFO:werkzeug:\u001b[31m\u001b[1mWARNING: This is a development server. Do not use it in a production deployment. Use a production WSGI server instead.\u001b[0m\n",
            " * Running on http://127.0.0.1:5000\n",
            "INFO:werkzeug:\u001b[33mPress CTRL+C to quit\u001b[0m\n",
            "INFO:werkzeug: * Restarting with stat\n"
          ]
        }
      ]
    },
    {
      "cell_type": "markdown",
      "source": [
        "15. How do you capture URL parameters in Flask ?"
      ],
      "metadata": {
        "id": "gxaDJBOb-h90"
      }
    },
    {
      "cell_type": "code",
      "source": [
        "from flask import Flask, request\n",
        "\n",
        "app = Flask(__name__)\n",
        "\n",
        "@app.route('/user/<username>')\n",
        "def show_user_profile(username):\n",
        "    return f'User: {username}'\n",
        "\n",
        "@app.route('/post/<int:post_id>')\n",
        "def show_post(post_id):\n",
        "    return f'Post ID: {post_id}'\n",
        "\n",
        "@app.route('/search')\n",
        "def search():\n",
        "    query = request.args.get('q')\n",
        "    category = request.args.get('category', 'all')\n",
        "    if query:\n",
        "        return f'Searching for \"{query}\" in category \"{category}\"'\n",
        "    else:\n",
        "        return 'Please provide a search query (e.g., /search?q=flask)'\n",
        "\n",
        "if __name__ == '__main__':\n",
        "    app.run(debug=True)"
      ],
      "metadata": {
        "id": "dfzI02iRPzg1",
        "colab": {
          "base_uri": "https://localhost:8080/"
        },
        "outputId": "ff846c41-2183-48b1-d877-bd5254cc6f17"
      },
      "execution_count": 17,
      "outputs": [
        {
          "output_type": "stream",
          "name": "stdout",
          "text": [
            " * Serving Flask app '__main__'\n",
            " * Debug mode: on\n"
          ]
        },
        {
          "output_type": "stream",
          "name": "stderr",
          "text": [
            "INFO:werkzeug:\u001b[31m\u001b[1mWARNING: This is a development server. Do not use it in a production deployment. Use a production WSGI server instead.\u001b[0m\n",
            " * Running on http://127.0.0.1:5000\n",
            "INFO:werkzeug:\u001b[33mPress CTRL+C to quit\u001b[0m\n",
            "INFO:werkzeug: * Restarting with stat\n"
          ]
        }
      ]
    },
    {
      "cell_type": "code",
      "source": [],
      "metadata": {
        "id": "gOaCGSnlKCBo"
      },
      "execution_count": null,
      "outputs": []
    }
  ]
}